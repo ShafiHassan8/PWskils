{
 "cells": [
  {
   "cell_type": "code",
   "execution_count": null,
   "id": "1f88a2df-531c-49a6-a4cc-7d23e43ed806",
   "metadata": {},
   "outputs": [],
   "source": [
    "Q1. How do you comment code in Python? What are the different types of comments?\n",
    "\n",
    "we can comment a code in python by using # symbol.\n",
    "there are single line ,multi line comments. we can use triple qotes for multiple line for ex\n",
    "\n",
    "'''hi this is shafi here\n",
    "   and i am an aspiing data scientist'''\n",
    "\n",
    "\n"
   ]
  },
  {
   "cell_type": "code",
   "execution_count": null,
   "id": "cb569afc-c667-4c4f-ae6e-a53fc095823c",
   "metadata": {},
   "outputs": [],
   "source": [
    "Q2. What are variables in Python? How do you declare and assign values to variables?\n",
    "\n",
    "variables are nothing but containers that is used to hold values\n",
    " \n",
    "    A = 'shafi' here we have declared a variable called A and have assigned value shafi. \n",
    "    for string values we have to use single or double quotes \n",
    "    "
   ]
  },
  {
   "cell_type": "code",
   "execution_count": null,
   "id": "ab444a44-d73d-41a3-9055-72b62e863f24",
   "metadata": {},
   "outputs": [],
   "source": [
    "Q3. How do you convert one data type to another in Python?\n",
    "\n",
    "we can change the data type to another by using a technique known as typecasting.\n",
    "\n",
    "ex: var=input(\" enter the number : \")\n",
    "by default input will consider it as string so to change it to int data type we have to mention it\n",
    "\n",
    "   var = int(input(\" enter the number : \"))\n",
    "    \n"
   ]
  },
  {
   "cell_type": "code",
   "execution_count": null,
   "id": "fae48025-a944-42b6-a86b-f3c60ee1a2c6",
   "metadata": {},
   "outputs": [],
   "source": [
    "Q4. How do you write and execute a Python script from the command line?\n",
    "\n",
    "using a text editor create a file and write code in it then save th file with extension .py\n",
    " then open command line by tpng windows+R\n",
    "    change the directory by using cd command (to where your file is saved)\n",
    "    now type python and follwed by file name\n",
    "    ex: python shafi.py\n",
    "\n",
    "\n",
    "\n",
    "\n",
    "\n",
    "\n"
   ]
  },
  {
   "cell_type": "code",
   "execution_count": 3,
   "id": "c6819a85-ee6d-4e4e-b4c2-2e3dacd0c51a",
   "metadata": {},
   "outputs": [
    {
     "name": "stdout",
     "output_type": "stream",
     "text": [
      "[2, 3]\n"
     ]
    }
   ],
   "source": [
    "#Q5.Given a list my_list = [1, 2, 3, 4, 5], write the code to slice the list and obtain the sub-list [2, 3].\n",
    "\n",
    "#we can do thhis by slicing\n",
    "my_list = [1, 2, 3, 4, 5]\n",
    "New_list = my_list[1:3]\n",
    "print(New_list)\n",
    "\n",
    "\n",
    "\n",
    "\n"
   ]
  },
  {
   "cell_type": "code",
   "execution_count": null,
   "id": "82365057-a722-4481-bc09-d272711caf95",
   "metadata": {},
   "outputs": [],
   "source": [
    "Q6. What is a complex number in mathematics, and how is it represented in Python?\n",
    "\n",
    "complex numbers have two parts real and imaginary\n",
    "ex: 2+4j 2 is real and 4j is imaginary part \n",
    "a complex number is expressed in this form 2+4j or a+3i and so on"
   ]
  },
  {
   "cell_type": "code",
   "execution_count": null,
   "id": "96c3541c-8bac-4735-9105-7299b687ad26",
   "metadata": {},
   "outputs": [],
   "source": [
    "Q7. What is the correct way to declare a variable named age and assign the value 25 to it?\n",
    "\n",
    "age = 25"
   ]
  },
  {
   "cell_type": "code",
   "execution_count": null,
   "id": "56d0e9a6-6f64-4aa5-832a-dd6fe3cc95e3",
   "metadata": {},
   "outputs": [],
   "source": [
    "Q8. Declare a variable named price and assign the value 9.99 to it. What data type does this variable\n",
    "belong to?\n",
    "\n",
    "price = 9.99 #this is float data type since it has decimal point\n",
    "\n",
    "type(price)"
   ]
  },
  {
   "cell_type": "code",
   "execution_count": 4,
   "id": "27ab50ae-6e89-4dd6-bcc7-4164063c7180",
   "metadata": {},
   "outputs": [
    {
     "data": {
      "text/plain": [
       "float"
      ]
     },
     "execution_count": 4,
     "metadata": {},
     "output_type": "execute_result"
    }
   ],
   "source": [
    "price = 9.99\n",
    "type(price)"
   ]
  },
  {
   "cell_type": "code",
   "execution_count": 5,
   "id": "ad29d4dd-d6ca-44b2-a912-e4b003cc3567",
   "metadata": {},
   "outputs": [
    {
     "name": "stdout",
     "output_type": "stream",
     "text": [
      "shafi Hassan\n"
     ]
    }
   ],
   "source": [
    "#Q9. Create a variable named name and assign your full name to it as a string. How would you print the\n",
    "#value of this variable?\n",
    "#we can do this by using print function\n",
    "\n",
    "name = \"shafi Hassan\"\n",
    "print(name)"
   ]
  },
  {
   "cell_type": "code",
   "execution_count": 6,
   "id": "f2392e9e-85f9-4206-b538-045185b781be",
   "metadata": {},
   "outputs": [
    {
     "name": "stdout",
     "output_type": "stream",
     "text": [
      "World\n"
     ]
    }
   ],
   "source": [
    "#Q10. Given the string \"Hello, World!\", extract the substring \"World\".\n",
    "\n",
    "a =\"Hello, World!\"\n",
    "print(a[7:12])\n",
    "\n"
   ]
  },
  {
   "cell_type": "code",
   "execution_count": null,
   "id": "715710b7-737e-42cd-a97a-4540c3c805c8",
   "metadata": {},
   "outputs": [],
   "source": [
    "Q11. Create a variable named \"is_student\" and assign it a boolean value indicating whether you are\n",
    "currently a student or not.\n",
    "\n",
    "is_student = True\n",
    "\n"
   ]
  },
  {
   "cell_type": "code",
   "execution_count": null,
   "id": "7e467ec5-ee4f-4544-a509-50e420163c52",
   "metadata": {},
   "outputs": [],
   "source": []
  },
  {
   "cell_type": "code",
   "execution_count": null,
   "id": "9b57a901-100e-4b4b-828b-ee77e6a93052",
   "metadata": {},
   "outputs": [],
   "source": []
  }
 ],
 "metadata": {
  "kernelspec": {
   "display_name": "Python 3 (ipykernel)",
   "language": "python",
   "name": "python3"
  },
  "language_info": {
   "codemirror_mode": {
    "name": "ipython",
    "version": 3
   },
   "file_extension": ".py",
   "mimetype": "text/x-python",
   "name": "python",
   "nbconvert_exporter": "python",
   "pygments_lexer": "ipython3",
   "version": "3.10.8"
  }
 },
 "nbformat": 4,
 "nbformat_minor": 5
}
