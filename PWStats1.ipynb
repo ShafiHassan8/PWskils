{
 "cells": [
  {
   "cell_type": "code",
   "execution_count": null,
   "id": "5be83483-978d-4e14-9f29-c24c3a61e848",
   "metadata": {},
   "outputs": [],
   "source": [
    "Q1. What is Statistics?\n",
    "Statistics is a branch of mathematics that deals with collecting, organising and analysing data\n",
    "    "
   ]
  },
  {
   "cell_type": "code",
   "execution_count": null,
   "id": "15be9fc9-79fe-431a-aaab-067e36229817",
   "metadata": {},
   "outputs": [],
   "source": [
    "Q2. Define the different types of statistics and give an example of when each type might be used.\n",
    "\n",
    "the different types of statistics are descriptive and inferential stats.\n",
    "\n",
    "descriptive: it is a banch odfstatistics that deals with organising and summarising the data.\n",
    "ex: we have a data set containing students height in a class\n",
    "[175cm,150cm,180cm,160cm,140cm,130cm,140cm,140cm]\n",
    "here using descriptive we can find the average height which is nothing but MEAN , we can find the repeated values which iis mode etc\n",
    "\n",
    "inferential stats: it deals with using the data that we have already measured tocome to a conclusion.\n",
    "ex: we can find whether the height of the students in the classroom is similiar to  what we expect from the entire college."
   ]
  },
  {
   "cell_type": "code",
   "execution_count": null,
   "id": "edf0d74a-f0d3-4d0a-bebf-c4b973fa9b4d",
   "metadata": {},
   "outputs": [],
   "source": [
    "Q3. What are the different types of data and how do they differ from each other? Provide an example of\n",
    "each type of data.\n",
    "\n",
    "\n",
    "\n",
    "\n",
    "\n"
   ]
  },
  {
   "cell_type": "code",
   "execution_count": null,
   "id": "eaa38122-557e-40e5-b389-e6ebe20de70e",
   "metadata": {},
   "outputs": [],
   "source": [
    "Q4. Categorise the following datasets with respect to quantitative and qualitative data types:\n",
    "(i) Grading in exam: A+, A, B+, B, C+, C, D, E - Qualitative (Ordinal)\n",
    "\n",
    "(ii) Colour of mangoes: yellow, green, orange, red -Qualitative (Nominal)\n",
    "\n",
    "(iii) Height data of a class: [178.9, 179, 179.5, 176, 177.2, 178.3, 175.8,...] -Quantitative (Continuous)\n",
    "\n",
    "(iv) Number of mangoes exported by a farm: [500, 600, 478, 672, ...]- Quantitative (Discrete)"
   ]
  },
  {
   "cell_type": "code",
   "execution_count": null,
   "id": "78022a8d-d8b7-4e9d-9ce5-d4ada37ec675",
   "metadata": {},
   "outputs": [],
   "source": []
  }
 ],
 "metadata": {
  "kernelspec": {
   "display_name": "Python 3 (ipykernel)",
   "language": "python",
   "name": "python3"
  },
  "language_info": {
   "codemirror_mode": {
    "name": "ipython",
    "version": 3
   },
   "file_extension": ".py",
   "mimetype": "text/x-python",
   "name": "python",
   "nbconvert_exporter": "python",
   "pygments_lexer": "ipython3",
   "version": "3.10.8"
  }
 },
 "nbformat": 4,
 "nbformat_minor": 5
}
