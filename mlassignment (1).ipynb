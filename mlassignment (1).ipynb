{
 "cells": [
  {
   "cell_type": "code",
   "execution_count": null,
   "id": "f6d9ee0f-89eb-4470-adff-6377bb3a10dd",
   "metadata": {},
   "outputs": [],
   "source": [
    "QD- E=plain thK followin* with an K=amplK-F\n",
    "C) Artificial IntKlli*KncJ\n",
    "<) MachinK LKarnin,\n",
    "I) DKKp LKarning\n",
    "\n",
    "\n",
    "AI: it is a smart application that can perform its own task without human intervention. ex: self driving car\n",
    "\n",
    "ML: it is a subset of AI that enables a system to learn and make predictions based on historical data. ex: credit card fraud detection.\n",
    "\n",
    "Deep Learning : it iss a sub set of ML and its main job is o mimic human brain .ex: image classification."
   ]
  },
  {
   "cell_type": "code",
   "execution_count": null,
   "id": "f21c0f16-aeb8-4c31-b71f-c1e7435fdf87",
   "metadata": {},
   "outputs": [],
   "source": [
    "Q2- What is supKrvisKd lKarnin*? List somK K=amplKs of supKrvisKd lKarnin*.\n",
    "\n",
    "supervised learning is a machine learning technique where the model learns from labeled data. labeled data means it has \n",
    "both input and output and based on these it will make predictions.\n",
    "ex:Predicting House Prices"
   ]
  },
  {
   "cell_type": "code",
   "execution_count": null,
   "id": "27919479-5dd6-4fd6-bd7c-64382e35db6b",
   "metadata": {},
   "outputs": [],
   "source": [
    "Q3- What is unsupKrvisKd lKarnin*? List somK K=amplKs of unsupKrvisKd lKarnin*\n",
    "\n",
    "it is a machine learning technique where the model learns from  data that does not have any labels. (unlabeled data)\n",
    "\n",
    "ex: Customer Segmentation. its nothing but clustering or grouping of customers based on a parameter. for ex customers who bought gadgets \n",
    "and customers who bought apparels will be grouped.\n",
    "\n",
    "\n"
   ]
  },
  {
   "cell_type": "code",
   "execution_count": null,
   "id": "33fce007-5000-4dac-889b-648603ba6bf5",
   "metadata": {},
   "outputs": [],
   "source": [
    "Q4- What is thK diffKrKncK bKtwKKn AI, ML, DL, and DS?\n",
    "\n",
    "AI: it is a smart application that can perform its own task without human intervention. ex: self driving car\n",
    "\n",
    "ML: it is a subset of AI that enables a system to learn and make predictions based on historical data. ex: credit card fraud detection.\n",
    "\n",
    "Deep Learning : it iss a sub set of ML and its main job is o mimic human brain .ex: image classification.\n",
    "\n",
    "Data science is a field that includes AI,ML,DL and many more aspects regarding data\n",
    "\n"
   ]
  },
  {
   "cell_type": "code",
   "execution_count": null,
   "id": "8b4de1c4-d8fb-45e8-bc43-dbc0ad7ed025",
   "metadata": {},
   "outputs": [],
   "source": [
    "Q5- What arK thK main diffKrKncKs bKtwKKn supKrvisKd, unsupKrvisKd, and sKmi-supKrvisKd lKarnin*?\n",
    "\n",
    "supervised learning deals with labeled data, where as unsupervised learning deals with unlabeled data.\n",
    "semi supervised learning includes both supervised and unsupervised"
   ]
  },
  {
   "cell_type": "code",
   "execution_count": null,
   "id": "acecbf36-5d3a-4d7e-8738-c707230db160",
   "metadata": {},
   "outputs": [],
   "source": [
    "Q6- What is train, test and validation split? Explain the importance of each term.\n",
    "\n",
    "for a given data set first we perform these 3 activities\n",
    "\n",
    "TRAINING dataset- we train the model using training dataset, then VALIDATION where we tweak the parameter to get better accuracy.\n",
    "then TEST dataset where we test the model and see how model performs with accuracy.\n",
    "\n"
   ]
  },
  {
   "cell_type": "code",
   "execution_count": null,
   "id": "bc73bd7d-8571-43c9-a12e-18dea7a5e24b",
   "metadata": {},
   "outputs": [],
   "source": [
    "Q7- How can unsupervised learning be  used in anomaly detection?\n",
    "\n",
    "Unsupervised learning does not require labeled data and it finds pattern n data."
   ]
  },
  {
   "cell_type": "code",
   "execution_count": null,
   "id": "768ba95f-c081-4043-8c4d-27e446827cf3",
   "metadata": {},
   "outputs": [],
   "source": [
    "Q8- List down some commonly used supervised learning  algorithms and unsupervised learning  algorithms\n",
    "\n",
    "supervised learning: linear rgreesson,decision trees\n",
    "\n",
    "unsupervised learning: K-Means Clustering, Hierarchical Clustering\n",
    "\n",
    "\n"
   ]
  },
  {
   "cell_type": "code",
   "execution_count": null,
   "id": "970dd656-68f5-4da9-887e-5828c8105b77",
   "metadata": {},
   "outputs": [],
   "source": []
  },
  {
   "cell_type": "code",
   "execution_count": null,
   "id": "3a19a253-ee04-4723-802b-9dd31b2c04fb",
   "metadata": {},
   "outputs": [],
   "source": []
  }
 ],
 "metadata": {
  "kernelspec": {
   "display_name": "Python 3 (ipykernel)",
   "language": "python",
   "name": "python3"
  },
  "language_info": {
   "codemirror_mode": {
    "name": "ipython",
    "version": 3
   },
   "file_extension": ".py",
   "mimetype": "text/x-python",
   "name": "python",
   "nbconvert_exporter": "python",
   "pygments_lexer": "ipython3",
   "version": "3.10.8"
  }
 },
 "nbformat": 4,
 "nbformat_minor": 5
}
