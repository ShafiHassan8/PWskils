{
 "cells": [
  {
   "cell_type": "code",
   "execution_count": 1,
   "id": "37da79a7-a2f4-46b8-8393-206552bd7f06",
   "metadata": {},
   "outputs": [
    {
     "name": "stdout",
     "output_type": "stream",
     "text": [
      "Hello world \n"
     ]
    }
   ],
   "source": [
    "print(\"Hello world \")"
   ]
  },
  {
   "cell_type": "code",
   "execution_count": 32,
   "id": "9f0297dc-179f-416b-9020-799e0eb76c33",
   "metadata": {},
   "outputs": [
    {
     "name": "stdout",
     "output_type": "stream",
     "text": [
      "shafi\n"
     ]
    }
   ],
   "source": [
    "#variables\n",
    "\n",
    "name = \"shafi\"\n",
    "age = str(25)\n",
    "print(name)\n"
   ]
  },
  {
   "cell_type": "code",
   "execution_count": 33,
   "id": "e46a44ff-758f-492f-b07a-7bfdfa61fe48",
   "metadata": {},
   "outputs": [
    {
     "name": "stdout",
     "output_type": "stream",
     "text": [
      "10\n"
     ]
    }
   ],
   "source": [
    "a = 5\n",
    "c = 5\n",
    "e = a+c\n",
    "print(e)"
   ]
  },
  {
   "cell_type": "code",
   "execution_count": 34,
   "id": "ddacbd3a-4300-47a9-9b57-ce1e0f0b152d",
   "metadata": {},
   "outputs": [
    {
     "name": "stdin",
     "output_type": "stream",
     "text": [
      "what is your name shafi\n"
     ]
    },
    {
     "name": "stdout",
     "output_type": "stream",
     "text": [
      "helloshafi\n"
     ]
    }
   ],
   "source": [
    "#input\n",
    "name = input(\"what is your name\")\n",
    "print(\"hello\"  + name)\n",
    "\n"
   ]
  },
  {
   "cell_type": "code",
   "execution_count": 18,
   "id": "acbd754f-586e-4ce9-b685-ce9108a5af23",
   "metadata": {},
   "outputs": [
    {
     "name": "stdin",
     "output_type": "stream",
     "text": [
      "Enter your old age : 19\n"
     ]
    },
    {
     "name": "stdout",
     "output_type": "stream",
     "text": [
      "21\n",
      "oldie\n"
     ]
    }
   ],
   "source": [
    "old_age = int(input(\"Enter your old age :\"))\n",
    "new_age = old_age + 2\n",
    "print(new_age)\n",
    "if new_age >=18:\n",
    "    print(\"oldie\")"
   ]
  },
  {
   "cell_type": "code",
   "execution_count": 19,
   "id": "9bc1cccf-b110-4013-bcbb-ef7f65e36b74",
   "metadata": {},
   "outputs": [
    {
     "name": "stdin",
     "output_type": "stream",
     "text": [
      "Enter the first number 45\n",
      "Enter the second number 45\n"
     ]
    },
    {
     "name": "stdout",
     "output_type": "stream",
     "text": [
      "The sum of two numbers are : 90\n"
     ]
    }
   ],
   "source": [
    "#print sum of two numbers\n",
    "\n",
    "a = int(input(\"Enter the first number\"))\n",
    "b = int(input(\"Enter the second number\"))\n",
    "c = a+b\n",
    "print(\"The sum of two numbers are :\", c )\n"
   ]
  },
  {
   "cell_type": "code",
   "execution_count": 23,
   "id": "fe8f8f40-722f-4e2c-8c48-768b2f91f693",
   "metadata": {},
   "outputs": [
    {
     "name": "stdout",
     "output_type": "stream",
     "text": [
      "riyas hassan\n"
     ]
    }
   ],
   "source": [
    "#strings\n",
    "name = \"shafi Hassan\"\n",
    "print(name.replace(\"shafi Hassan\", \"riyas hassan\"))\n"
   ]
  },
  {
   "cell_type": "code",
   "execution_count": 24,
   "id": "63ea565b-26d6-4126-87f4-f9034a62d42c",
   "metadata": {},
   "outputs": [
    {
     "name": "stdout",
     "output_type": "stream",
     "text": [
      "False\n"
     ]
    }
   ],
   "source": [
    "name = \" virat \"\n",
    "print('m' in name)"
   ]
  },
  {
   "cell_type": "code",
   "execution_count": 25,
   "id": "6a77a7ab-ebec-4674-84ba-68b00b7459a8",
   "metadata": {},
   "outputs": [
    {
     "name": "stdout",
     "output_type": "stream",
     "text": [
      "2.5\n"
     ]
    }
   ],
   "source": [
    "print(5 / 2)"
   ]
  },
  {
   "cell_type": "code",
   "execution_count": 26,
   "id": "95d49f6b-15ab-413f-b827-27600681fe3b",
   "metadata": {},
   "outputs": [
    {
     "name": "stdout",
     "output_type": "stream",
     "text": [
      "7\n"
     ]
    }
   ],
   "source": [
    "print(5 + 2)"
   ]
  },
  {
   "cell_type": "code",
   "execution_count": 27,
   "id": "fcfa3f7f-9875-4aef-b556-a02d26248b98",
   "metadata": {},
   "outputs": [
    {
     "name": "stdout",
     "output_type": "stream",
     "text": [
      "3\n"
     ]
    }
   ],
   "source": [
    "print(5 - 2)"
   ]
  },
  {
   "cell_type": "code",
   "execution_count": 28,
   "id": "38ef5c7c-f0a9-4293-9621-496e4d411611",
   "metadata": {},
   "outputs": [
    {
     "name": "stdout",
     "output_type": "stream",
     "text": [
      "10\n"
     ]
    }
   ],
   "source": [
    "print(5 * 2)"
   ]
  },
  {
   "cell_type": "code",
   "execution_count": 29,
   "id": "b5eedd39-0842-4f5c-926a-6f36ee4b4415",
   "metadata": {},
   "outputs": [
    {
     "name": "stdout",
     "output_type": "stream",
     "text": [
      "2\n"
     ]
    }
   ],
   "source": [
    "print(5 // 2)"
   ]
  },
  {
   "cell_type": "code",
   "execution_count": 30,
   "id": "d073c4ca-9411-45df-93b5-0969a9485f3b",
   "metadata": {},
   "outputs": [
    {
     "name": "stdout",
     "output_type": "stream",
     "text": [
      "1\n"
     ]
    }
   ],
   "source": [
    "print(5 % 2)"
   ]
  },
  {
   "cell_type": "code",
   "execution_count": 31,
   "id": "91aed22d-7a01-43ec-9611-1214ddb25a41",
   "metadata": {},
   "outputs": [
    {
     "name": "stdout",
     "output_type": "stream",
     "text": [
      "25\n"
     ]
    }
   ],
   "source": [
    "print(5 ** 2)"
   ]
  },
  {
   "cell_type": "code",
   "execution_count": 35,
   "id": "8f2d5282-987b-48da-bc5c-cfbc575a545a",
   "metadata": {},
   "outputs": [
    {
     "name": "stdout",
     "output_type": "stream",
     "text": [
      "False\n"
     ]
    }
   ],
   "source": [
    "#comparison operator\n",
    "\n",
    "print(3==2)"
   ]
  },
  {
   "cell_type": "code",
   "execution_count": 36,
   "id": "7b433778-7e54-4106-8c87-afa23f75cf05",
   "metadata": {},
   "outputs": [
    {
     "name": "stdout",
     "output_type": "stream",
     "text": [
      "True\n"
     ]
    }
   ],
   "source": [
    "print(3 > 2)"
   ]
  },
  {
   "cell_type": "code",
   "execution_count": 37,
   "id": "7334ce05-2f96-45ff-aaad-ef1bb7a3dc10",
   "metadata": {},
   "outputs": [
    {
     "name": "stdout",
     "output_type": "stream",
     "text": [
      "False\n"
     ]
    }
   ],
   "source": [
    "print(3 < 2)"
   ]
  },
  {
   "cell_type": "code",
   "execution_count": 46,
   "id": "1a33ac0c-685a-4b20-b21a-729e99c0283c",
   "metadata": {},
   "outputs": [
    {
     "name": "stdin",
     "output_type": "stream",
     "text": [
      "Enter the first number:   5\n",
      "Enter operator (+,-,*,/,%) :  +\n",
      "Enter the second number :  6\n"
     ]
    },
    {
     "name": "stdout",
     "output_type": "stream",
     "text": [
      "11\n"
     ]
    }
   ],
   "source": [
    "first = int(input(\"Enter the first number:  \"))\n",
    "operator = input(\"Enter operator (+,-,*,/,%) : \")\n",
    "second = int(input(\"Enter the second number : \"))\n",
    "\n",
    "if operator == \"+\" :\n",
    "    print(first + second)\n",
    "elif operator == \"-\" :\n",
    "    print(first - second)\n",
    "elif operator == \"/\" :\n",
    "    print(first / second)\n",
    "elif operator == \"*\" :\n",
    "    print(first * second)\n",
    "else :\n",
    "    print(first % second)"
   ]
  },
  {
   "cell_type": "code",
   "execution_count": 3,
   "id": "1e65a6ed-6861-4a5d-8b16-7e0cbf978105",
   "metadata": {},
   "outputs": [
    {
     "name": "stdout",
     "output_type": "stream",
     "text": [
      "[95, 98, 97]\n"
     ]
    }
   ],
   "source": [
    "#list\n",
    "marks = [95,98,97]\n",
    "print(marks)\n"
   ]
  },
  {
   "cell_type": "code",
   "execution_count": 8,
   "id": "b56da58b-3b71-4dd1-9d16-0e383f678951",
   "metadata": {},
   "outputs": [
    {
     "name": "stdout",
     "output_type": "stream",
     "text": [
      "[95, 98, 97]\n",
      "[99, 95, 98, 97]\n"
     ]
    }
   ],
   "source": [
    "marks = [95,98,97]\n",
    "print(marks)\n",
    "marks.insert(0,99)\n",
    "print(marks)"
   ]
  },
  {
   "cell_type": "code",
   "execution_count": null,
   "id": "f27bdf5e-499b-4de6-8535-d2928b3b5c93",
   "metadata": {},
   "outputs": [],
   "source": []
  },
  {
   "cell_type": "code",
   "execution_count": null,
   "id": "356f939c-1111-49a8-9c3d-dcb2c23e7de7",
   "metadata": {},
   "outputs": [],
   "source": []
  },
  {
   "cell_type": "code",
   "execution_count": null,
   "id": "00ad44ea-9af3-4947-9e8d-184bf9f39d79",
   "metadata": {},
   "outputs": [],
   "source": []
  },
  {
   "cell_type": "code",
   "execution_count": null,
   "id": "b5dd145e-1299-487e-ad30-78a29035464c",
   "metadata": {},
   "outputs": [],
   "source": []
  },
  {
   "cell_type": "code",
   "execution_count": null,
   "id": "8f5c611c-1a55-4086-8666-040b6e754129",
   "metadata": {},
   "outputs": [],
   "source": []
  },
  {
   "cell_type": "code",
   "execution_count": null,
   "id": "c197351d-69eb-4569-ba5f-a631b9e70722",
   "metadata": {},
   "outputs": [],
   "source": []
  }
 ],
 "metadata": {
  "kernelspec": {
   "display_name": "Python 3 (ipykernel)",
   "language": "python",
   "name": "python3"
  },
  "language_info": {
   "codemirror_mode": {
    "name": "ipython",
    "version": 3
   },
   "file_extension": ".py",
   "mimetype": "text/x-python",
   "name": "python",
   "nbconvert_exporter": "python",
   "pygments_lexer": "ipython3",
   "version": "3.10.8"
  }
 },
 "nbformat": 4,
 "nbformat_minor": 5
}
