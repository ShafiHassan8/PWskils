{
 "cells": [
  {
   "cell_type": "code",
   "execution_count": null,
   "id": "f3ade7ed-e1a4-4d4f-b119-33975c28dbc0",
   "metadata": {},
   "outputs": [],
   "source": [
    "Q1. Create one variable containing following type of data:\n",
    "(i) string \n",
    "a = \"shafi \"\n",
    "\n",
    "(ii) list \n",
    "\n",
    "list = [\"pwskills\", \"data\", \"python\"]\n",
    "\n",
    "(iii) float \n",
    "\n",
    "shafi = 1.007\n",
    "\n",
    "(iv) tuple - \n",
    "\n",
    "tuple =  (\"pwskills\", \"data\", \"python\")\n"
   ]
  },
  {
   "cell_type": "code",
   "execution_count": null,
   "id": "b40ca7de-8a3f-4d93-ab90-d71ff62b117d",
   "metadata": {},
   "outputs": [],
   "source": [
    "Q2. Given are some following variables containing data:\n",
    "(i) var1 = ‘ ‘  - STRING\n",
    "\n",
    "(ii) var2 = ‘[ DS , ML , Python]’   - STRING \n",
    "\n",
    "(iii) var3 = [ ‘DS’ , ’ML’ , ‘Python’ ] - LIST\n",
    "\n",
    "(iv) var4 = 1. - FLOAT  (decimal point is found else its integer data type)\n",
    "\n",
    "\n",
    "What will be the data type of the above given variable."
   ]
  },
  {
   "cell_type": "code",
   "execution_count": null,
   "id": "c6fba4d6-bac7-4d0d-a9aa-61add5693003",
   "metadata": {},
   "outputs": [],
   "source": [
    "Q3. Explain the use of the following operators using an example:\n",
    "(i) / - division. it performs division operation.\n",
    "\n",
    "(ii) % - the modulus  operator returns the remainder of the division between two numbers.\n",
    "\n",
    "(iii) // - floor division - it divides numbers and rounds off to nearby whole number\n",
    "\n",
    "\n",
    "(iv) ** - exponentiation , this is used to raise a number to the power of another number. for ex: 2 raise to 2 will be written as 2**2"
   ]
  },
  {
   "cell_type": "code",
   "execution_count": null,
   "id": "cccb1a83-a8f6-4983-a6c6-272c62c8b93d",
   "metadata": {},
   "outputs": [],
   "source": [
    "Q4. Create a list of length 10 of your choice containing multiple types of data. Using for loop print the\n",
    "element and its data type.\n",
    "\n",
    "list = [ 1,2,3,'shafi', 'hassan', 3.14 ,[7,8,9],{9,8}, 'data', 'science' ]\n",
    "for element in list:\n",
    "    print(f'Element: {element}, Type: {type(element)}')\n",
    "\n",
    "\n",
    "\n",
    "\n"
   ]
  },
  {
   "cell_type": "code",
   "execution_count": null,
   "id": "df40e419-c8de-4610-9714-53eccf538816",
   "metadata": {},
   "outputs": [],
   "source": [
    "//Q5. Using a while loop, verify if the number A is purely divisible by number B and if so then how many\n",
    "times it can be divisible.\n",
    "\n",
    "\n",
    "A = 64\n",
    "B = 2\n",
    "\n",
    "\n",
    "count = 0\n",
    "\n",
    "\n",
    "while A % B == 0:\n",
    "    A = A // B\n",
    "    count += 1\n",
    "\n",
    "\n",
    "if count > 0:\n",
    "    print(f'The number is divisible {count} times.')\n",
    "else:\n",
    "    print('The number is not divisible by B.')\n",
    "\n",
    "\n",
    "\n",
    "\n",
    "\n",
    "\n"
   ]
  },
  {
   "cell_type": "code",
   "execution_count": null,
   "id": "0c965fa1-0a57-486e-aeda-2f53569a610d",
   "metadata": {},
   "outputs": [],
   "source": [
    "Q6. Create a list containing 25 int type data. Using for loop and if-else condition print if the element is\n",
    "divisible by 3 or not.\n",
    "\n",
    "\n",
    "my_list = list(range(1, 26))\n",
    "\n",
    "\n",
    "for num in my_list:\n",
    "    \n",
    "    if num % 3 == 0:\n",
    "        print(f\"{num} is divisible by 3\")\n",
    "    else:\n",
    "        print(f\"{num} is not divisible by 3\")\n",
    "\n",
    "\n"
   ]
  },
  {
   "cell_type": "code",
   "execution_count": null,
   "id": "b7915e0a-647f-4dc3-ab49-864aadc33281",
   "metadata": {},
   "outputs": [],
   "source": [
    "Q7. What do you understand about mutable and immutable data types? Give examples for both showing\n",
    "this property.\n",
    "\n",
    "Mutable data types are those whose values can be changed after they are created\n",
    "ex list , dictionary\n",
    "\n",
    "Immutable data types are those whose values cannot be changed after they are created\n",
    "\n",
    "ex: tuples\n",
    "\n",
    "\n",
    "\n"
   ]
  },
  {
   "cell_type": "code",
   "execution_count": null,
   "id": "ac4dae03-8a0b-47bf-82f9-0e5918a6c9b9",
   "metadata": {},
   "outputs": [],
   "source": []
  },
  {
   "cell_type": "code",
   "execution_count": null,
   "id": "1d008565-a6aa-4904-8107-c231a579c534",
   "metadata": {},
   "outputs": [],
   "source": []
  },
  {
   "cell_type": "code",
   "execution_count": null,
   "id": "84f96174-2aca-459e-a4a5-244dd3960e00",
   "metadata": {},
   "outputs": [],
   "source": []
  },
  {
   "cell_type": "code",
   "execution_count": null,
   "id": "3e926312-c504-4b2d-a66a-c7ae11713909",
   "metadata": {},
   "outputs": [],
   "source": []
  },
  {
   "cell_type": "code",
   "execution_count": null,
   "id": "89834e78-bd67-46a3-80b9-b4f2e8600f95",
   "metadata": {},
   "outputs": [],
   "source": []
  },
  {
   "cell_type": "code",
   "execution_count": null,
   "id": "6916240b-a65e-41be-847f-8023923e558f",
   "metadata": {},
   "outputs": [],
   "source": []
  },
  {
   "cell_type": "code",
   "execution_count": null,
   "id": "ce82f8fc-d1ae-4d50-b39e-ae86a3a4629f",
   "metadata": {},
   "outputs": [],
   "source": []
  }
 ],
 "metadata": {
  "kernelspec": {
   "display_name": "Python 3 (ipykernel)",
   "language": "python",
   "name": "python3"
  },
  "language_info": {
   "codemirror_mode": {
    "name": "ipython",
    "version": 3
   },
   "file_extension": ".py",
   "mimetype": "text/x-python",
   "name": "python",
   "nbconvert_exporter": "python",
   "pygments_lexer": "ipython3",
   "version": "3.10.8"
  }
 },
 "nbformat": 4,
 "nbformat_minor": 5
}
