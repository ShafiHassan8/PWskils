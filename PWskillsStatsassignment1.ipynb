{
 "cells": [
  {
   "cell_type": "code",
   "execution_count": null,
   "id": "5be83483-978d-4e14-9f29-c24c3a61e848",
   "metadata": {},
   "outputs": [],
   "source": [
    "Q1. What is Statistics?\n",
    "Statistics is a branch of mathematics that deals with collecting, organising and analysing data\n",
    "    "
   ]
  },
  {
   "cell_type": "code",
   "execution_count": null,
   "id": "15be9fc9-79fe-431a-aaab-067e36229817",
   "metadata": {},
   "outputs": [],
   "source": [
    "Q2. Define the different types of statistics and give an example of when each type might be used.\n",
    "\n",
    "the different types of statistics are descriptive and inferential stats.\n",
    "\n",
    "descriptive: it is a banch odfstatistics that deals with organising and summarising the data.\n",
    "ex: we have a data set containing students height in a class\n",
    "[175cm,150cm,180cm,160cm,140cm,130cm,140cm,140cm]\n",
    "here using descriptive we can find the average height which is nothing but MEAN , we can find the repeated values which iis mode etc\n",
    "\n",
    "inferential stats: it deals with using the data that we have already measured tocome to a conclusion.\n",
    "ex: we can find whether the height of the students in the classroom is similiar to  what we expect from the entire college."
   ]
  },
  {
   "cell_type": "code",
   "execution_count": null,
   "id": "edf0d74a-f0d3-4d0a-bebf-c4b973fa9b4d",
   "metadata": {},
   "outputs": [],
   "source": [
    "Q3. What are the different types of data and how do they differ from each other? Provide an example of\n",
    "each type of data.\n",
    "\n",
    "different types of data are qualitative and quantitative. in quantitative we have continuos and discreet and in qualitatve we have nominal and ordinal.\n",
    "discreet represents a whole number like no of students in a class and continuos is a floating number like height or weight of a person\n",
    "\n",
    "\n",
    "\n",
    "\n",
    "\n"
   ]
  },
  {
   "cell_type": "code",
   "execution_count": null,
   "id": "eaa38122-557e-40e5-b389-e6ebe20de70e",
   "metadata": {},
   "outputs": [],
   "source": [
    "Q4. Categorise the following datasets with respect to quantitative and qualitative data types:\n",
    "(i) Grading in exam: A+, A, B+, B, C+, C, D, E - Qualitative (Ordinal)\n",
    "\n",
    "(ii) Colour of mangoes: yellow, green, orange, red -Qualitative (Nominal)\n",
    "\n",
    "(iii) Height data of a class: [178.9, 179, 179.5, 176, 177.2, 178.3, 175.8,...] -Quantitative (Continuous)\n",
    "\n",
    "(iv) Number of mangoes exported by a farm: [500, 600, 478, 672, ...]- Quantitative (Discrete)"
   ]
  },
  {
   "cell_type": "code",
   "execution_count": null,
   "id": "78022a8d-d8b7-4e9d-9ce5-d4ada37ec675",
   "metadata": {},
   "outputs": [],
   "source": [
    "Q5. Explain the concept of levels of measurement and give an example of a variable for each level.\n",
    "\n",
    "refers to the classification of variables based on the nature of information they convey and the\n",
    "mathematical operations that can be performed on them. \n",
    "There are four levels of measurement: nominal, ordinal, interval, and ratio.\n",
    "\n",
    "\n"
   ]
  },
  {
   "cell_type": "code",
   "execution_count": null,
   "id": "75021204-b5d9-4879-ac67-dd93204800c4",
   "metadata": {},
   "outputs": [],
   "source": [
    "Q6. Why is it important to understand the level of measurement when analyzing data? Provide an\n",
    "example to illustrate your answer.\n",
    "\n",
    "Understanding the level of measurement is crucial when analyzing data because it determines the types of statistical techniques that can be appropriately \n",
    "and accurately applied to the data.\n"
   ]
  },
  {
   "cell_type": "code",
   "execution_count": null,
   "id": "825ce7be-e449-4ce6-b1b5-eac8685b6ff0",
   "metadata": {},
   "outputs": [],
   "source": [
    "Q7. How nominal data type is different from ordinal data type.\n",
    "\n",
    "The nominal level of measurement categorizes data without any order or ranking where as The ordinal level of measurement \n",
    "categorizes data with a meaningful order or ranking"
   ]
  },
  {
   "cell_type": "code",
   "execution_count": null,
   "id": "dca2e064-22bf-4e9b-82e9-26d50f534086",
   "metadata": {},
   "outputs": [],
   "source": [
    "Q8. Which type of plot can be used to display data in terms of range?\n",
    "Box Plots"
   ]
  },
  {
   "cell_type": "code",
   "execution_count": null,
   "id": "a84290c9-6cd5-4639-98c8-963cc823216f",
   "metadata": {},
   "outputs": [],
   "source": [
    "Q9. Describe the difference between descriptive and inferential statistics. Give an example of each\n",
    "type of statistics and explain how they are used.\n",
    "\n",
    "descriptive stats includes organising and summarising the data where as inferential stats involves using\n",
    "the data that we have already measured to form a conclusion\n",
    "ex: we have a data set containing students height in a class\n",
    "[175cm,150cm,180cm,160cm,140cm,130cm,140cm,140cm]\n",
    "here using descriptive we can find the average height which is nothing but MEAN , we can find the repeated values which iis mode etc\n",
    "inferential stats: it deals with using the data that we have already measured tocome to a conclusion.\n",
    "ex: we can find whether the height of the students in the classroom is similiar to  what we expect from the entire college.\n",
    "\n",
    "\n"
   ]
  },
  {
   "cell_type": "code",
   "execution_count": null,
   "id": "b9518d62-bd35-4283-b8d6-f37ef09c4ddf",
   "metadata": {},
   "outputs": [],
   "source": [
    "Q10. What are some common measures of central tendency and variability used in statistics? Explain\n",
    "how each measure can be used to describe a dataset.\n",
    "\n",
    "we hav mean,median and mode\n",
    "mean is finding the average in the data set, median is finding the middle value in the dataset and\n",
    "mode is nothing but value appearing frequently in data set"
   ]
  },
  {
   "cell_type": "code",
   "execution_count": null,
   "id": "9a8f3e62-2fdf-48d5-92f3-c1b6c4f74c71",
   "metadata": {},
   "outputs": [],
   "source": []
  }
 ],
 "metadata": {
  "kernelspec": {
   "display_name": "Python 3 (ipykernel)",
   "language": "python",
   "name": "python3"
  },
  "language_info": {
   "codemirror_mode": {
    "name": "ipython",
    "version": 3
   },
   "file_extension": ".py",
   "mimetype": "text/x-python",
   "name": "python",
   "nbconvert_exporter": "python",
   "pygments_lexer": "ipython3",
   "version": "3.10.8"
  }
 },
 "nbformat": 4,
 "nbformat_minor": 5
}
